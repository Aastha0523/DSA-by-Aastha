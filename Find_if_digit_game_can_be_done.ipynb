{
 "cells": [
  {
   "cell_type": "markdown",
   "id": "cbcabb28",
   "metadata": {},
   "source": [
    "You are given an array of positive integers nums.\n",
    "\n",
    "Alice and Bob are playing a game. In the game, Alice can choose either all single-digit numbers or all double-digit numbers from nums, and the rest of the numbers are given to Bob. Alice wins if the sum of her numbers is strictly greater than the sum of Bob's numbers.\n",
    "\n",
    "Return true if Alice can win this game, otherwise, return false."
   ]
  },
  {
   "cell_type": "code",
   "execution_count": 11,
   "id": "6556bbda",
   "metadata": {},
   "outputs": [
    {
     "name": "stdout",
     "output_type": "stream",
     "text": [
      "sums(single)= 6 sumd(double)= 23 total= 29\n",
      "Alice can win by choosing double digits\n"
     ]
    }
   ],
   "source": [
    "def digit_game(nums):\n",
    "    sums = 0\n",
    "    sumd = 0\n",
    "    total = 0\n",
    "\n",
    "    for num in nums:\n",
    "        total +=num\n",
    "        if 1<=num<=9:\n",
    "            sums+=num\n",
    "        elif 10<=num<=99:\n",
    "            sumd+=num\n",
    "    print(\"sums(single)=\", sums, \"sumd(double)=\", sumd, \"total=\", total)\n",
    "    if 2*sums > total:\n",
    "        print(\"Alice can win by choosing single digits\")    \n",
    "    elif 2*sumd > total:\n",
    "        print(\"Alice can win by choosing double digits\")  \n",
    "    else:\n",
    "        print(\"Alice looses\")  \n",
    "    \n",
    "    \n",
    "if __name__ == \"__main__\":\n",
    "    nums = [1,2,3,10,13]\n",
    "    digit_game(nums)\n",
    "    \n",
    "    "
   ]
  },
  {
   "cell_type": "code",
   "execution_count": null,
   "id": "11985ede",
   "metadata": {},
   "outputs": [],
   "source": []
  }
 ],
 "metadata": {
  "kernelspec": {
   "display_name": "projenv",
   "language": "python",
   "name": "python3"
  },
  "language_info": {
   "codemirror_mode": {
    "name": "ipython",
    "version": 3
   },
   "file_extension": ".py",
   "mimetype": "text/x-python",
   "name": "python",
   "nbconvert_exporter": "python",
   "pygments_lexer": "ipython3",
   "version": "3.11.13"
  }
 },
 "nbformat": 4,
 "nbformat_minor": 5
}
