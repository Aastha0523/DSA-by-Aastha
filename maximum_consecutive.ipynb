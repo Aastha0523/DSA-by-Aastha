{
 "cells": [
  {
   "cell_type": "markdown",
   "id": "b21446e1",
   "metadata": {},
   "source": [
    "Maximum consecutive one’s (or zeros) in a binary array\n",
    "\n",
    "Given a binary array arr[] consisting of only 0s and 1s, find the length of the longest contiguous sequence of either 1s or 0s in the array."
   ]
  },
  {
   "cell_type": "code",
   "execution_count": 11,
   "id": "3dec2d26",
   "metadata": {},
   "outputs": [
    {
     "name": "stdout",
     "output_type": "stream",
     "text": [
      "4\n"
     ]
    }
   ],
   "source": [
    "def consecutive_ones_zeroes(arr):\n",
    "    count = 1\n",
    "    best = 1 \n",
    "    for i in range(1,len(arr)):\n",
    "        if arr[i] == arr[i-1]:\n",
    "            count+=1\n",
    "        else:\n",
    "            best = max(best, count)\n",
    "            count = 1\n",
    "    best = max(best, count)\n",
    "    return best\n",
    "\n",
    "if __name__ == \"__main__\":\n",
    "    arr = [0, 1, 0, 1, 1, 1, 1]\n",
    "    result = consecutive_ones_zeroes(arr)\n",
    "    print(result)"
   ]
  },
  {
   "cell_type": "markdown",
   "id": "244681d4",
   "metadata": {},
   "source": [
    "only consecutive ones"
   ]
  },
  {
   "cell_type": "code",
   "execution_count": 14,
   "id": "c9f4bfdb",
   "metadata": {},
   "outputs": [
    {
     "name": "stdout",
     "output_type": "stream",
     "text": [
      "4\n"
     ]
    }
   ],
   "source": [
    "def consecutive_ones(arr):\n",
    "    best = 0\n",
    "    curr = 0\n",
    "    for x in arr:\n",
    "        if x == 1:\n",
    "            curr += 1\n",
    "            if curr > best:\n",
    "                best = curr\n",
    "        else:\n",
    "            curr = 0\n",
    "    return best\n",
    "\n",
    "if __name__ == \"__main__\":\n",
    "    arr = [0, 1, 0, 1, 1, 1, 1]\n",
    "    result = consecutive_ones(arr)\n",
    "    print(result)"
   ]
  },
  {
   "cell_type": "markdown",
   "id": "dd52f0af",
   "metadata": {},
   "source": [
    "only consecutive zeroes"
   ]
  },
  {
   "cell_type": "code",
   "execution_count": 15,
   "id": "0505932b",
   "metadata": {},
   "outputs": [
    {
     "name": "stdout",
     "output_type": "stream",
     "text": [
      "1\n"
     ]
    }
   ],
   "source": [
    "def consecutive_zeroes(arr):\n",
    "    best = 0\n",
    "    curr = 0\n",
    "    for x in arr:\n",
    "        if x == 0:\n",
    "            curr += 1\n",
    "            if curr > best:\n",
    "                best = curr\n",
    "        else:\n",
    "            curr = 0\n",
    "    return best\n",
    "\n",
    "if __name__ == \"__main__\":\n",
    "    arr = [0, 1, 0, 1, 1, 1, 1]\n",
    "    result = consecutive_zeroes(arr)\n",
    "    print(result)"
   ]
  },
  {
   "cell_type": "code",
   "execution_count": null,
   "id": "63ab6a6a",
   "metadata": {},
   "outputs": [],
   "source": []
  }
 ],
 "metadata": {
  "kernelspec": {
   "display_name": "Python 3",
   "language": "python",
   "name": "python3"
  },
  "language_info": {
   "codemirror_mode": {
    "name": "ipython",
    "version": 3
   },
   "file_extension": ".py",
   "mimetype": "text/x-python",
   "name": "python",
   "nbconvert_exporter": "python",
   "pygments_lexer": "ipython3",
   "version": "3.13.2"
  }
 },
 "nbformat": 4,
 "nbformat_minor": 5
}
