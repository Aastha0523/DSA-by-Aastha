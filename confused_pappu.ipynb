{
 "cells": [
  {
   "cell_type": "markdown",
   "id": "5c6ef722",
   "metadata": {},
   "source": [
    "Pappu is confused between 6 & 9. He works in the billing department of abc company and his work is to return the remaining amount to the customers. If the actual remaining amount is given we need to find the maximum possible extra amount given by the pappu to the customers."
   ]
  },
  {
   "cell_type": "code",
   "execution_count": 14,
   "id": "f5938d6e",
   "metadata": {},
   "outputs": [
    {
     "name": "stdout",
     "output_type": "stream",
     "text": [
      "333\n"
     ]
    }
   ],
   "source": [
    "def findDiff(amount):\n",
    "    n = str(amount)\n",
    "    if \"6\" in n:\n",
    "         n = n.replace(\"6\", \"9\")\n",
    "    a = int(n)\n",
    "    error = a-amount\n",
    "    return error\n",
    "\n",
    "if __name__ == \"__main__\":\n",
    "    amount = 666\n",
    "    result = findDiff(amount)\n",
    "    print(result)\n"
   ]
  },
  {
   "cell_type": "markdown",
   "id": "27210514",
   "metadata": {},
   "source": [
    "The time complexity is O(d), where d is the number of digits in the amount (equivalently O(log(amount))). The space complexity is also O(d), due to string conversion and replacement."
   ]
  },
  {
   "cell_type": "markdown",
   "id": "d8031279",
   "metadata": {},
   "source": []
  }
 ],
 "metadata": {
  "kernelspec": {
   "display_name": "projenv",
   "language": "python",
   "name": "python3"
  },
  "language_info": {
   "codemirror_mode": {
    "name": "ipython",
    "version": 3
   },
   "file_extension": ".py",
   "mimetype": "text/x-python",
   "name": "python",
   "nbconvert_exporter": "python",
   "pygments_lexer": "ipython3",
   "version": "3.11.13"
  }
 },
 "nbformat": 4,
 "nbformat_minor": 5
}
