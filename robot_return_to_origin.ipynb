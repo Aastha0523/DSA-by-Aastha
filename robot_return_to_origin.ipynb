{
 "cells": [
  {
   "cell_type": "code",
   "execution_count": 13,
   "id": "fff9d1cc",
   "metadata": {},
   "outputs": [
    {
     "name": "stdout",
     "output_type": "stream",
     "text": [
      "U: 1 L: 0 D: 1 R: 0\n",
      "True\n",
      "U: 1 L: 1 D: 0 R: 0\n",
      "False\n",
      "U: 0 L: 0 D: 1 R: 1\n",
      "False\n",
      "U: 0 L: 1 D: 0 R: 1\n",
      "True\n"
     ]
    }
   ],
   "source": [
    "def Robot_moves(moves):\n",
    "    U = 0\n",
    "    L = 0\n",
    "    D = 0\n",
    "    R = 0\n",
    "    for i in moves:\n",
    "        if i == 'U':\n",
    "            U+=1\n",
    "        if i == 'L':\n",
    "            L+=1\n",
    "        if i == 'D':\n",
    "            D+=1\n",
    "        if i == 'R':\n",
    "            R+=1\n",
    "    print(\"U:\", U, \"L:\", L, \"D:\", D, \"R:\", R)\n",
    "        \n",
    "    return U == D and L == R      \n",
    "\n",
    "if __name__ == \"__main__\":\n",
    "    print(Robot_moves(\"UD\"))\n",
    "    print(Robot_moves(\"UL\"))\n",
    "    print(Robot_moves(\"RD\"))\n",
    "    print(Robot_moves(\"LR\")) \n",
    "    "
   ]
  },
  {
   "cell_type": "code",
   "execution_count": 14,
   "id": "251eb1a7",
   "metadata": {},
   "outputs": [
    {
     "name": "stdout",
     "output_type": "stream",
     "text": [
      "False\n",
      "False\n",
      "False\n",
      "False\n"
     ]
    }
   ],
   "source": [
    "def Robot_moves(moves):\n",
    "    x = y = 0   \n",
    "\n",
    "    for ch in moves:\n",
    "        if ch == 'U':\n",
    "            y += 1\n",
    "        elif ch == 'D':\n",
    "            y -= 1\n",
    "        elif ch == 'L':\n",
    "            x -= 1\n",
    "        elif ch == 'R':\n",
    "            x += 1\n",
    "\n",
    "        return x == 0 and y == 0\n",
    "if __name__ == \"__main__\":\n",
    "    print(Robot_moves(\"UD\"))\n",
    "    print(Robot_moves(\"UL\"))\n",
    "    print(Robot_moves(\"RD\"))\n",
    "    print(Robot_moves(\"LR\")) "
   ]
  },
  {
   "cell_type": "code",
   "execution_count": null,
   "id": "8be74a0f",
   "metadata": {},
   "outputs": [],
   "source": []
  }
 ],
 "metadata": {
  "kernelspec": {
   "display_name": "projenv",
   "language": "python",
   "name": "python3"
  },
  "language_info": {
   "codemirror_mode": {
    "name": "ipython",
    "version": 3
   },
   "file_extension": ".py",
   "mimetype": "text/x-python",
   "name": "python",
   "nbconvert_exporter": "python",
   "pygments_lexer": "ipython3",
   "version": "3.11.13"
  }
 },
 "nbformat": 4,
 "nbformat_minor": 5
}
