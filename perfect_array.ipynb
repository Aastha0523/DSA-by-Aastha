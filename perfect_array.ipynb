{
 "cells": [
  {
   "cell_type": "markdown",
   "id": "f891f104",
   "metadata": {},
   "source": [
    "Perfect Array\n",
    "Given an array arr[] of non-negative integers, determine whether the array is perfect. An array is considered perfect if it first strictly increases, then remains constant, and finally strictly decreases. Any of these three parts can be empty."
   ]
  },
  {
   "cell_type": "code",
   "execution_count": null,
   "id": "75be8a83",
   "metadata": {},
   "outputs": [
    {
     "name": "stdout",
     "output_type": "stream",
     "text": [
      "True\n"
     ]
    }
   ],
   "source": [
    "def perfect_array(arr):\n",
    "    pattern = 'inc'\n",
    "    for i in range(1,len(arr)): #for iin range(len(arr)) -> At i = 0, arr[i-1] is arr[-1] (the last element), so your very first comparison is between the last and first items.\n",
    "        if pattern == 'inc':\n",
    "            if arr[i-1] < arr[i]:\n",
    "                continue\n",
    "            elif arr[i-1] == arr[i]:\n",
    "                pattern = 'cons'\n",
    "            else:\n",
    "                pattern = 'dec'\n",
    "\n",
    "        elif pattern == 'cons':\n",
    "            if arr[i-1] == arr[i]:\n",
    "                continue\n",
    "            elif arr[i] < arr[i-1]:\n",
    "                pattern = 'dec'\n",
    "            else:\n",
    "                return False\n",
    "            \n",
    "        elif pattern == 'dec':\n",
    "            if arr[i]< arr[i-1]:\n",
    "                continue\n",
    "            else:\n",
    "                return False \n",
    "    return True\n",
    "            \n",
    "\n",
    "\n",
    "if __name__ == \"__main__\":\n",
    "    arr = [1,2,3,5,5,1]\n",
    "    res = perfect_array(arr)\n",
    "    print(res)"
   ]
  },
  {
   "cell_type": "markdown",
   "id": "4b34c0e5",
   "metadata": {},
   "source": [
    "\"test\""
   ]
  },
  {
   "cell_type": "markdown",
   "id": "a5adf725",
   "metadata": {},
   "source": [
    "Goal is to write code like this->"
   ]
  },
  {
   "cell_type": "code",
   "execution_count": 2,
   "id": "0346a989",
   "metadata": {},
   "outputs": [
    {
     "name": "stdout",
     "output_type": "stream",
     "text": [
      "True\n"
     ]
    }
   ],
   "source": [
    "def is_perfect_array(arr):\n",
    "    phase = 0   # 0 = inc, 1 = const, 2 = dec\n",
    "    for i in range(1, len(arr)):\n",
    "        if arr[i] > arr[i-1]:\n",
    "            if phase > 0: return False   # can't increase after const/dec\n",
    "        elif arr[i] == arr[i-1]:\n",
    "            if phase == 2: return False  # can't flatten after dec\n",
    "            phase = 1\n",
    "        else:  # arr[i] < arr[i-1]\n",
    "            phase = 2\n",
    "    return True\n",
    "\n",
    "if __name__ == \"__main__\":\n",
    "    arr = [1,2,3,4,4,0]\n",
    "    res = perfect_array(arr)\n",
    "    print(res) "
   ]
  },
  {
   "cell_type": "code",
   "execution_count": null,
   "id": "d40c6d42",
   "metadata": {},
   "outputs": [],
   "source": []
  }
 ],
 "metadata": {
  "kernelspec": {
   "display_name": "projenv",
   "language": "python",
   "name": "python3"
  },
  "language_info": {
   "codemirror_mode": {
    "name": "ipython",
    "version": 3
   },
   "file_extension": ".py",
   "mimetype": "text/x-python",
   "name": "python",
   "nbconvert_exporter": "python",
   "pygments_lexer": "ipython3",
   "version": "3.11.13"
  }
 },
 "nbformat": 4,
 "nbformat_minor": 5
}
