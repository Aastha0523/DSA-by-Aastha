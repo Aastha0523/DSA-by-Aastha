{
 "cells": [
  {
   "cell_type": "markdown",
   "id": "ac220217",
   "metadata": {},
   "source": [
    "Maximum consecutive one’s (or zeros) in a binary array. Given a binary array arr[] consisting of only 0s and 1s, find the length of the longest contiguous sequence of either 1s or 0s in the array."
   ]
  },
  {
   "cell_type": "code",
   "execution_count": null,
   "id": "29356e39",
   "metadata": {},
   "outputs": [
    {
     "name": "stdout",
     "output_type": "stream",
     "text": [
      "3\n"
     ]
    }
   ],
   "source": [
    "def consecutive_no(arr):\n",
    "    count = 1\n",
    "    best = 1 \n",
    "    for i in range(1, len(arr)):\n",
    "        if arr[i] == 0 or arr[i] == 1:\n",
    "\n",
    "            if arr[i] == arr[i-1]:\n",
    "                count += 1\n",
    "            else:\n",
    "                best = max(best, count)\n",
    "                count = 1\n",
    "    best = max(best, count)   \n",
    "    return best\n",
    "\n",
    "if __name__ == \"__main__\": \n",
    "    arr = [0, 1, 0, 1, 1, 1, 5,5,5,5,5] \n",
    "    result = consecutive_no(arr) \n",
    "    print(result)"
   ]
  },
  {
   "cell_type": "markdown",
   "id": "fe1ca055",
   "metadata": {},
   "source": [
    "Only Consecutive Ones"
   ]
  },
  {
   "cell_type": "code",
   "execution_count": null,
   "id": "ae86f750",
   "metadata": {},
   "outputs": [
    {
     "name": "stdout",
     "output_type": "stream",
     "text": [
      "3\n"
     ]
    }
   ],
   "source": [
    "def consecutive_no(arr):\n",
    "    count = 1\n",
    "    best = 1 \n",
    "    for i in range(1, len(arr)):\n",
    "        if arr[i] == 1:\n",
    "\n",
    "            if arr[i] == arr[i-1]:\n",
    "                count += 1\n",
    "            else:\n",
    "                best = max(best, count)\n",
    "                count = 1\n",
    "    best = max(best, count)   \n",
    "    return best\n",
    "\n",
    "if __name__ == \"__main__\": \n",
    "    arr = [0, 1, 0, 1, 1, 1, 5,5,5,5,5] \n",
    "    result = consecutive_no(arr) \n",
    "    print(result)"
   ]
  },
  {
   "cell_type": "markdown",
   "id": "cf9796a0",
   "metadata": {},
   "source": [
    "Only Consecutive Zeroes"
   ]
  },
  {
   "cell_type": "code",
   "execution_count": null,
   "id": "faab5cdd",
   "metadata": {},
   "outputs": [
    {
     "name": "stdout",
     "output_type": "stream",
     "text": [
      "1\n"
     ]
    }
   ],
   "source": [
    "def consecutive_no(arr):\n",
    "    count = 1\n",
    "    best = 1 \n",
    "    for i in range(1, len(arr)):\n",
    "        if arr[i] == 0:\n",
    "\n",
    "            if arr[i] == arr[i-1]:\n",
    "                count += 1\n",
    "            else:\n",
    "                best = max(best, count)\n",
    "                count = 1\n",
    "    best = max(best, count)   \n",
    "    return best\n",
    "\n",
    "if __name__ == \"__main__\": \n",
    "    arr = [0, 1, 0, 1, 1, 1, 5,5,5,5,5] \n",
    "    result = consecutive_no(arr) \n",
    "    print(result)"
   ]
  },
  {
   "cell_type": "code",
   "execution_count": null,
   "id": "df619533",
   "metadata": {},
   "outputs": [],
   "source": []
  }
 ],
 "metadata": {
  "kernelspec": {
   "display_name": "projenv",
   "language": "python",
   "name": "python3"
  },
  "language_info": {
   "codemirror_mode": {
    "name": "ipython",
    "version": 3
   },
   "file_extension": ".py",
   "mimetype": "text/x-python",
   "name": "python",
   "nbconvert_exporter": "python",
   "pygments_lexer": "ipython3",
   "version": "3.11.13"
  }
 },
 "nbformat": 4,
 "nbformat_minor": 5
}
